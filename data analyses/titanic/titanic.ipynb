{
 "cells": [
  {
   "cell_type": "code",
   "execution_count": 1,
   "id": "infrared-opportunity",
   "metadata": {
    "_cell_guid": "b1076dfc-b9ad-4769-8c92-a6c4dae69d19",
    "_uuid": "8f2839f25d086af736a60e9eeb907d3b93b6e0e5",
    "execution": {
     "iopub.execute_input": "2021-04-03T18:19:37.479107Z",
     "iopub.status.busy": "2021-04-03T18:19:37.478108Z",
     "iopub.status.idle": "2021-04-03T18:19:38.522798Z",
     "shell.execute_reply": "2021-04-03T18:19:38.521656Z"
    },
    "papermill": {
     "duration": 1.073377,
     "end_time": "2021-04-03T18:19:38.523014",
     "exception": false,
     "start_time": "2021-04-03T18:19:37.449637",
     "status": "completed"
    },
    "tags": []
   },
   "outputs": [],
   "source": [
    "import numpy as np # linear algebra\n",
    "import pandas as pd # data processing, CSV file I/O (e.g. pd.read_csv)\n",
    "import seaborn as sns #for data data visualization"
   ]
  },
  {
   "cell_type": "code",
   "execution_count": 2,
   "id": "final-maintenance",
   "metadata": {
    "execution": {
     "iopub.execute_input": "2021-04-03T18:19:38.561764Z",
     "iopub.status.busy": "2021-04-03T18:19:38.560898Z",
     "iopub.status.idle": "2021-04-03T18:19:38.610622Z",
     "shell.execute_reply": "2021-04-03T18:19:38.611145Z"
    },
    "papermill": {
     "duration": 0.071334,
     "end_time": "2021-04-03T18:19:38.611317",
     "exception": false,
     "start_time": "2021-04-03T18:19:38.539983",
     "status": "completed"
    },
    "tags": []
   },
   "outputs": [
    {
     "data": {
      "text/html": [
       "<div>\n",
       "<style scoped>\n",
       "    .dataframe tbody tr th:only-of-type {\n",
       "        vertical-align: middle;\n",
       "    }\n",
       "\n",
       "    .dataframe tbody tr th {\n",
       "        vertical-align: top;\n",
       "    }\n",
       "\n",
       "    .dataframe thead th {\n",
       "        text-align: right;\n",
       "    }\n",
       "</style>\n",
       "<table border=\"1\" class=\"dataframe\">\n",
       "  <thead>\n",
       "    <tr style=\"text-align: right;\">\n",
       "      <th></th>\n",
       "      <th>PassengerId</th>\n",
       "      <th>Survived</th>\n",
       "      <th>Pclass</th>\n",
       "      <th>Name</th>\n",
       "      <th>Sex</th>\n",
       "      <th>Age</th>\n",
       "      <th>SibSp</th>\n",
       "      <th>Parch</th>\n",
       "      <th>Ticket</th>\n",
       "      <th>Fare</th>\n",
       "      <th>Cabin</th>\n",
       "      <th>Embarked</th>\n",
       "    </tr>\n",
       "  </thead>\n",
       "  <tbody>\n",
       "    <tr>\n",
       "      <th>0</th>\n",
       "      <td>1</td>\n",
       "      <td>0</td>\n",
       "      <td>3</td>\n",
       "      <td>Braund, Mr. Owen Harris</td>\n",
       "      <td>male</td>\n",
       "      <td>22.0</td>\n",
       "      <td>1</td>\n",
       "      <td>0</td>\n",
       "      <td>A/5 21171</td>\n",
       "      <td>7.2500</td>\n",
       "      <td>NaN</td>\n",
       "      <td>S</td>\n",
       "    </tr>\n",
       "    <tr>\n",
       "      <th>1</th>\n",
       "      <td>2</td>\n",
       "      <td>1</td>\n",
       "      <td>1</td>\n",
       "      <td>Cumings, Mrs. John Bradley (Florence Briggs Th...</td>\n",
       "      <td>female</td>\n",
       "      <td>38.0</td>\n",
       "      <td>1</td>\n",
       "      <td>0</td>\n",
       "      <td>PC 17599</td>\n",
       "      <td>71.2833</td>\n",
       "      <td>C85</td>\n",
       "      <td>C</td>\n",
       "    </tr>\n",
       "    <tr>\n",
       "      <th>2</th>\n",
       "      <td>3</td>\n",
       "      <td>1</td>\n",
       "      <td>3</td>\n",
       "      <td>Heikkinen, Miss. Laina</td>\n",
       "      <td>female</td>\n",
       "      <td>26.0</td>\n",
       "      <td>0</td>\n",
       "      <td>0</td>\n",
       "      <td>STON/O2. 3101282</td>\n",
       "      <td>7.9250</td>\n",
       "      <td>NaN</td>\n",
       "      <td>S</td>\n",
       "    </tr>\n",
       "    <tr>\n",
       "      <th>3</th>\n",
       "      <td>4</td>\n",
       "      <td>1</td>\n",
       "      <td>1</td>\n",
       "      <td>Futrelle, Mrs. Jacques Heath (Lily May Peel)</td>\n",
       "      <td>female</td>\n",
       "      <td>35.0</td>\n",
       "      <td>1</td>\n",
       "      <td>0</td>\n",
       "      <td>113803</td>\n",
       "      <td>53.1000</td>\n",
       "      <td>C123</td>\n",
       "      <td>S</td>\n",
       "    </tr>\n",
       "    <tr>\n",
       "      <th>4</th>\n",
       "      <td>5</td>\n",
       "      <td>0</td>\n",
       "      <td>3</td>\n",
       "      <td>Allen, Mr. William Henry</td>\n",
       "      <td>male</td>\n",
       "      <td>35.0</td>\n",
       "      <td>0</td>\n",
       "      <td>0</td>\n",
       "      <td>373450</td>\n",
       "      <td>8.0500</td>\n",
       "      <td>NaN</td>\n",
       "      <td>S</td>\n",
       "    </tr>\n",
       "  </tbody>\n",
       "</table>\n",
       "</div>"
      ],
      "text/plain": [
       "   PassengerId  Survived  Pclass  \\\n",
       "0            1         0       3   \n",
       "1            2         1       1   \n",
       "2            3         1       3   \n",
       "3            4         1       1   \n",
       "4            5         0       3   \n",
       "\n",
       "                                                Name     Sex   Age  SibSp  \\\n",
       "0                            Braund, Mr. Owen Harris    male  22.0      1   \n",
       "1  Cumings, Mrs. John Bradley (Florence Briggs Th...  female  38.0      1   \n",
       "2                             Heikkinen, Miss. Laina  female  26.0      0   \n",
       "3       Futrelle, Mrs. Jacques Heath (Lily May Peel)  female  35.0      1   \n",
       "4                           Allen, Mr. William Henry    male  35.0      0   \n",
       "\n",
       "   Parch            Ticket     Fare Cabin Embarked  \n",
       "0      0         A/5 21171   7.2500   NaN        S  \n",
       "1      0          PC 17599  71.2833   C85        C  \n",
       "2      0  STON/O2. 3101282   7.9250   NaN        S  \n",
       "3      0            113803  53.1000  C123        S  \n",
       "4      0            373450   8.0500   NaN        S  "
      ]
     },
     "execution_count": 2,
     "metadata": {},
     "output_type": "execute_result"
    }
   ],
   "source": [
    "#training data\n",
    "df = pd.read_csv(\"titanic/train.csv\")\n",
    "df.head()\n"
   ]
  },
  {
   "cell_type": "markdown",
   "id": "b8519c4e",
   "metadata": {},
   "source": [
    "  s c q\n",
    "s 1 0 0\n",
    "q 0 0 1\n",
    "c 0 1 0"
   ]
  },
  {
   "cell_type": "code",
   "execution_count": 3,
   "id": "e8d9be73",
   "metadata": {},
   "outputs": [
    {
     "name": "stdout",
     "output_type": "stream",
     "text": [
      "<class 'pandas.core.frame.DataFrame'>\n",
      "RangeIndex: 891 entries, 0 to 890\n",
      "Data columns (total 12 columns):\n",
      " #   Column       Non-Null Count  Dtype  \n",
      "---  ------       --------------  -----  \n",
      " 0   PassengerId  891 non-null    int64  \n",
      " 1   Survived     891 non-null    int64  \n",
      " 2   Pclass       891 non-null    int64  \n",
      " 3   Name         891 non-null    object \n",
      " 4   Sex          891 non-null    object \n",
      " 5   Age          714 non-null    float64\n",
      " 6   SibSp        891 non-null    int64  \n",
      " 7   Parch        891 non-null    int64  \n",
      " 8   Ticket       891 non-null    object \n",
      " 9   Fare         891 non-null    float64\n",
      " 10  Cabin        204 non-null    object \n",
      " 11  Embarked     889 non-null    object \n",
      "dtypes: float64(2), int64(5), object(5)\n",
      "memory usage: 83.7+ KB\n"
     ]
    }
   ],
   "source": [
    "df.info()"
   ]
  },
  {
   "cell_type": "code",
   "execution_count": 4,
   "id": "c2144f1a",
   "metadata": {},
   "outputs": [
    {
     "data": {
      "text/plain": [
       "0"
      ]
     },
     "execution_count": 4,
     "metadata": {},
     "output_type": "execute_result"
    }
   ],
   "source": [
    "df.duplicated().sum()\n"
   ]
  },
  {
   "cell_type": "code",
   "execution_count": 5,
   "id": "brief-david",
   "metadata": {
    "execution": {
     "iopub.execute_input": "2021-04-03T18:19:39.514206Z",
     "iopub.status.busy": "2021-04-03T18:19:39.513133Z",
     "iopub.status.idle": "2021-04-03T18:19:39.695480Z",
     "shell.execute_reply": "2021-04-03T18:19:39.694912Z"
    },
    "papermill": {
     "duration": 0.208619,
     "end_time": "2021-04-03T18:19:39.695620",
     "exception": false,
     "start_time": "2021-04-03T18:19:39.487001",
     "status": "completed"
    },
    "tags": []
   },
   "outputs": [
    {
     "name": "stderr",
     "output_type": "stream",
     "text": [
      "C:\\Users\\vip\\anaconda3\\envs\\mine\\Lib\\site-packages\\seaborn\\_oldcore.py:1498: FutureWarning: is_categorical_dtype is deprecated and will be removed in a future version. Use isinstance(dtype, CategoricalDtype) instead\n",
      "  if pd.api.types.is_categorical_dtype(vector):\n",
      "C:\\Users\\vip\\anaconda3\\envs\\mine\\Lib\\site-packages\\seaborn\\_oldcore.py:1498: FutureWarning: is_categorical_dtype is deprecated and will be removed in a future version. Use isinstance(dtype, CategoricalDtype) instead\n",
      "  if pd.api.types.is_categorical_dtype(vector):\n",
      "C:\\Users\\vip\\anaconda3\\envs\\mine\\Lib\\site-packages\\seaborn\\_oldcore.py:1498: FutureWarning: is_categorical_dtype is deprecated and will be removed in a future version. Use isinstance(dtype, CategoricalDtype) instead\n",
      "  if pd.api.types.is_categorical_dtype(vector):\n",
      "C:\\Users\\vip\\anaconda3\\envs\\mine\\Lib\\site-packages\\seaborn\\_oldcore.py:1498: FutureWarning: is_categorical_dtype is deprecated and will be removed in a future version. Use isinstance(dtype, CategoricalDtype) instead\n",
      "  if pd.api.types.is_categorical_dtype(vector):\n"
     ]
    },
    {
     "data": {
      "text/plain": [
       "<Axes: xlabel='Survived', ylabel='count'>"
      ]
     },
     "execution_count": 5,
     "metadata": {},
     "output_type": "execute_result"
    },
    {
     "data": {
      "image/png": "[encoded data removed]",
      "text/plain": [
       "<Figure size 640x480 with 1 Axes>"
      ]
     },
     "metadata": {},
     "output_type": "display_data"
    }
   ],
   "source": [
    "sns.countplot(x='Survived',data=df,hue = 'Pclass')"
   ]
  },
  {
   "cell_type": "code",
   "execution_count": 6,
   "id": "driving-terminology",
   "metadata": {
    "execution": {
     "iopub.execute_input": "2021-04-03T18:19:39.211034Z",
     "iopub.status.busy": "2021-04-03T18:19:39.210287Z",
     "iopub.status.idle": "2021-04-03T18:19:39.385133Z",
     "shell.execute_reply": "2021-04-03T18:19:39.385638Z"
    },
    "papermill": {
     "duration": 0.204465,
     "end_time": "2021-04-03T18:19:39.385840",
     "exception": false,
     "start_time": "2021-04-03T18:19:39.181375",
     "status": "completed"
    },
    "tags": []
   },
   "outputs": [
    {
     "name": "stderr",
     "output_type": "stream",
     "text": [
      "C:\\Users\\vip\\anaconda3\\envs\\mine\\Lib\\site-packages\\seaborn\\_oldcore.py:1498: FutureWarning: is_categorical_dtype is deprecated and will be removed in a future version. Use isinstance(dtype, CategoricalDtype) instead\n",
      "  if pd.api.types.is_categorical_dtype(vector):\n",
      "C:\\Users\\vip\\anaconda3\\envs\\mine\\Lib\\site-packages\\seaborn\\_oldcore.py:1498: FutureWarning: is_categorical_dtype is deprecated and will be removed in a future version. Use isinstance(dtype, CategoricalDtype) instead\n",
      "  if pd.api.types.is_categorical_dtype(vector):\n",
      "C:\\Users\\vip\\anaconda3\\envs\\mine\\Lib\\site-packages\\seaborn\\_oldcore.py:1498: FutureWarning: is_categorical_dtype is deprecated and will be removed in a future version. Use isinstance(dtype, CategoricalDtype) instead\n",
      "  if pd.api.types.is_categorical_dtype(vector):\n",
      "C:\\Users\\vip\\anaconda3\\envs\\mine\\Lib\\site-packages\\seaborn\\_oldcore.py:1498: FutureWarning: is_categorical_dtype is deprecated and will be removed in a future version. Use isinstance(dtype, CategoricalDtype) instead\n",
      "  if pd.api.types.is_categorical_dtype(vector):\n"
     ]
    },
    {
     "data": {
      "text/plain": [
       "<Axes: xlabel='Survived', ylabel='count'>"
      ]
     },
     "execution_count": 6,
     "metadata": {},
     "output_type": "execute_result"
    },
    {
     "data": {
      "image/png": "[encoded data removed]",
      "text/plain": [
       "<Figure size 640x480 with 1 Axes>"
      ]
     },
     "metadata": {},
     "output_type": "display_data"
    }
   ],
   "source": [
    "sns.countplot(x='Survived',data=df,hue = 'Sex')"
   ]
  },
  {
   "cell_type": "code",
   "execution_count": 7,
   "id": "144683b2",
   "metadata": {},
   "outputs": [
    {
     "data": {
      "text/plain": [
       "Sex\n",
       "female    233\n",
       "male      109\n",
       "Name: count, dtype: int64"
      ]
     },
     "execution_count": 7,
     "metadata": {},
     "output_type": "execute_result"
    }
   ],
   "source": [
    "df[df['Survived']==1]['Sex'].value_counts()"
   ]
  },
  {
   "cell_type": "code",
   "execution_count": 8,
   "id": "found-shock",
   "metadata": {
    "execution": {
     "iopub.execute_input": "2021-04-03T18:19:40.216057Z",
     "iopub.status.busy": "2021-04-03T18:19:40.215004Z",
     "iopub.status.idle": "2021-04-03T18:19:40.367112Z",
     "shell.execute_reply": "2021-04-03T18:19:40.367639Z"
    },
    "papermill": {
     "duration": 0.181461,
     "end_time": "2021-04-03T18:19:40.367837",
     "exception": false,
     "start_time": "2021-04-03T18:19:40.186376",
     "status": "completed"
    },
    "tags": []
   },
   "outputs": [
    {
     "name": "stderr",
     "output_type": "stream",
     "text": [
      "C:\\Users\\vip\\anaconda3\\envs\\mine\\Lib\\site-packages\\seaborn\\_oldcore.py:1498: FutureWarning: is_categorical_dtype is deprecated and will be removed in a future version. Use isinstance(dtype, CategoricalDtype) instead\n",
      "  if pd.api.types.is_categorical_dtype(vector):\n",
      "C:\\Users\\vip\\anaconda3\\envs\\mine\\Lib\\site-packages\\seaborn\\_oldcore.py:1498: FutureWarning: is_categorical_dtype is deprecated and will be removed in a future version. Use isinstance(dtype, CategoricalDtype) instead\n",
      "  if pd.api.types.is_categorical_dtype(vector):\n",
      "C:\\Users\\vip\\anaconda3\\envs\\mine\\Lib\\site-packages\\seaborn\\_oldcore.py:1498: FutureWarning: is_categorical_dtype is deprecated and will be removed in a future version. Use isinstance(dtype, CategoricalDtype) instead\n",
      "  if pd.api.types.is_categorical_dtype(vector):\n"
     ]
    },
    {
     "data": {
      "text/plain": [
       "<Axes: xlabel='SibSp', ylabel='count'>"
      ]
     },
     "execution_count": 8,
     "metadata": {},
     "output_type": "execute_result"
    },
    {
     "data": {
      "image/png": "[encoded data removed]",
      "text/plain": [
       "<Figure size 640x480 with 1 Axes>"
      ]
     },
     "metadata": {},
     "output_type": "display_data"
    }
   ],
   "source": [
    "sns.countplot(x='SibSp',data=df)"
   ]
  },
  {
   "cell_type": "code",
   "execution_count": 9,
   "id": "honest-joshua",
   "metadata": {
    "execution": {
     "iopub.execute_input": "2021-04-03T18:19:39.830457Z",
     "iopub.status.busy": "2021-04-03T18:19:39.829667Z",
     "iopub.status.idle": "2021-04-03T18:19:40.073102Z",
     "shell.execute_reply": "2021-04-03T18:19:40.072367Z"
    },
    "papermill": {
     "duration": 0.270632,
     "end_time": "2021-04-03T18:19:40.073260",
     "exception": false,
     "start_time": "2021-04-03T18:19:39.802628",
     "status": "completed"
    },
    "tags": []
   },
   "outputs": [
    {
     "data": {
      "text/plain": [
       "<Axes: ylabel='Frequency'>"
      ]
     },
     "execution_count": 9,
     "metadata": {},
     "output_type": "execute_result"
    },
    {
     "data": {
      "image/png": "[encoded data removed]",
      "text/plain": [
       "<Figure size 640x480 with 1 Axes>"
      ]
     },
     "metadata": {},
     "output_type": "display_data"
    }
   ],
   "source": [
    "df['Age'].plot.hist(bins=30)"
   ]
  },
  {
   "cell_type": "code",
   "execution_count": 10,
   "id": "statewide-machine",
   "metadata": {
    "execution": {
     "iopub.execute_input": "2021-04-03T18:19:40.531162Z",
     "iopub.status.busy": "2021-04-03T18:19:40.528610Z",
     "iopub.status.idle": "2021-04-03T18:19:40.743776Z",
     "shell.execute_reply": "2021-04-03T18:19:40.743148Z"
    },
    "papermill": {
     "duration": 0.258892,
     "end_time": "2021-04-03T18:19:40.743935",
     "exception": false,
     "start_time": "2021-04-03T18:19:40.485043",
     "status": "completed"
    },
    "tags": []
   },
   "outputs": [
    {
     "data": {
      "text/plain": [
       "<Axes: >"
      ]
     },
     "execution_count": 10,
     "metadata": {},
     "output_type": "execute_result"
    },
    {
     "data": {
      "image/png": "[encoded data removed]",
      "text/plain": [
       "<Figure size 1000x400 with 1 Axes>"
      ]
     },
     "metadata": {},
     "output_type": "display_data"
    }
   ],
   "source": [
    "df['Fare'].hist(bins=40,figsize=(10,4))"
   ]
  },
  {
   "cell_type": "code",
   "execution_count": 11,
   "id": "precise-yukon",
   "metadata": {
    "execution": {
     "iopub.execute_input": "2021-04-03T18:19:38.769992Z",
     "iopub.status.busy": "2021-04-03T18:19:38.753778Z",
     "iopub.status.idle": "2021-04-03T18:19:38.998574Z",
     "shell.execute_reply": "2021-04-03T18:19:38.997915Z"
    },
    "papermill": {
     "duration": 0.269449,
     "end_time": "2021-04-03T18:19:38.998734",
     "exception": false,
     "start_time": "2021-04-03T18:19:38.729285",
     "status": "completed"
    },
    "tags": []
   },
   "outputs": [
    {
     "data": {
      "text/plain": [
       "<Axes: >"
      ]
     },
     "execution_count": 11,
     "metadata": {},
     "output_type": "execute_result"
    },
    {
     "data": {
      "image/png": "[encoded data removed]",
      "text/plain": [
       "<Figure size 640x480 with 1 Axes>"
      ]
     },
     "metadata": {},
     "output_type": "display_data"
    }
   ],
   "source": [
    "sns.heatmap(df.isnull(),yticklabels=False,cbar=False,cmap = 'viridis')"
   ]
  },
  {
   "cell_type": "markdown",
   "id": "existing-tumor",
   "metadata": {
    "papermill": {
     "duration": 0.017039,
     "end_time": "2021-04-03T18:19:38.710198",
     "exception": false,
     "start_time": "2021-04-03T18:19:38.693159",
     "status": "completed"
    },
    "tags": []
   },
   "source": [
    "\n",
    "# Identifying the null values (missing values)\n"
   ]
  },
  {
   "cell_type": "code",
   "execution_count": 12,
   "id": "explicit-cement",
   "metadata": {
    "execution": {
     "iopub.execute_input": "2021-04-03T18:19:39.120390Z",
     "iopub.status.busy": "2021-04-03T18:19:39.119460Z",
     "iopub.status.idle": "2021-04-03T18:19:39.124451Z",
     "shell.execute_reply": "2021-04-03T18:19:39.123921Z"
    },
    "papermill": {
     "duration": 0.031948,
     "end_time": "2021-04-03T18:19:39.124611",
     "exception": false,
     "start_time": "2021-04-03T18:19:39.092663",
     "status": "completed"
    },
    "tags": []
   },
   "outputs": [
    {
     "data": {
      "text/plain": [
       "PassengerId      0\n",
       "Survived         0\n",
       "Pclass           0\n",
       "Name             0\n",
       "Sex              0\n",
       "Age            177\n",
       "SibSp            0\n",
       "Parch            0\n",
       "Ticket           0\n",
       "Fare             0\n",
       "Cabin          687\n",
       "Embarked         2\n",
       "dtype: int64"
      ]
     },
     "execution_count": 12,
     "metadata": {},
     "output_type": "execute_result"
    }
   ],
   "source": [
    "df.isna().sum()"
   ]
  },
  {
   "cell_type": "code",
   "execution_count": 13,
   "id": "b5cd5193",
   "metadata": {},
   "outputs": [
    {
     "data": {
      "text/plain": [
       "28.0"
      ]
     },
     "execution_count": 13,
     "metadata": {},
     "output_type": "execute_result"
    }
   ],
   "source": [
    "df['Age'].median()"
   ]
  },
  {
   "cell_type": "code",
   "execution_count": 14,
   "id": "e8ff435f",
   "metadata": {},
   "outputs": [],
   "source": [
    "df.drop(['Cabin'],axis=1,inplace=True)\n"
   ]
  },
  {
   "cell_type": "code",
   "execution_count": 15,
   "id": "f056ad04",
   "metadata": {},
   "outputs": [
    {
     "data": {
      "text/plain": [
       "PassengerId    0\n",
       "Survived       0\n",
       "Pclass         0\n",
       "Name           0\n",
       "Sex            0\n",
       "Age            0\n",
       "SibSp          0\n",
       "Parch          0\n",
       "Ticket         0\n",
       "Fare           0\n",
       "Embarked       2\n",
       "dtype: int64"
      ]
     },
     "execution_count": 15,
     "metadata": {},
     "output_type": "execute_result"
    }
   ],
   "source": [
    "df['Age'].fillna(df['Age'].median(),inplace=True)\n",
    "df.isna().sum()"
   ]
  },
  {
   "cell_type": "code",
   "execution_count": 16,
   "id": "d2dd35d8",
   "metadata": {},
   "outputs": [
    {
     "data": {
      "text/plain": [
       "array(['S', 'C', 'Q', nan], dtype=object)"
      ]
     },
     "execution_count": 16,
     "metadata": {},
     "output_type": "execute_result"
    }
   ],
   "source": [
    "df['Embarked'].unique()"
   ]
  },
  {
   "cell_type": "code",
   "execution_count": 17,
   "id": "43a20ad8",
   "metadata": {},
   "outputs": [],
   "source": [
    "from sklearn.impute import SimpleImputer\n",
    "imputer = SimpleImputer(missing_values=np.NaN, strategy='most_frequent')\n",
    "df[\"Embarked\"]=imputer.fit_transform(df['Embarked'].values.reshape(-1,1))[:,0]\n"
   ]
  },
  {
   "cell_type": "code",
   "execution_count": 18,
   "id": "7971a578",
   "metadata": {},
   "outputs": [
    {
     "data": {
      "text/plain": [
       "PassengerId    0\n",
       "Survived       0\n",
       "Pclass         0\n",
       "Name           0\n",
       "Sex            0\n",
       "Age            0\n",
       "SibSp          0\n",
       "Parch          0\n",
       "Ticket         0\n",
       "Fare           0\n",
       "Embarked       0\n",
       "dtype: int64"
      ]
     },
     "execution_count": 18,
     "metadata": {},
     "output_type": "execute_result"
    }
   ],
   "source": [
    "df.isna().sum()"
   ]
  },
  {
   "cell_type": "code",
   "execution_count": 19,
   "id": "ce8ce36e",
   "metadata": {},
   "outputs": [
    {
     "data": {
      "text/plain": [
       "[179, 271, 302, 597]"
      ]
     },
     "execution_count": 19,
     "metadata": {},
     "output_type": "execute_result"
    }
   ],
   "source": [
    "df['Ticket']=df['Ticket'].str.split().str[-1]\n",
    "index=df[df['Ticket']==\"LINE\"].index.tolist()\n",
    "df.drop(index,axis=0,inplace=True)\n",
    "df.reset_index(inplace=True)\n",
    "df.drop(['index'],axis=1,inplace=True)\n",
    "df['Ticket']=df['Ticket'].astype(int)\n",
    "index"
   ]
  },
  {
   "cell_type": "code",
   "execution_count": 20,
   "id": "4d3bc33e",
   "metadata": {},
   "outputs": [
    {
     "data": {
      "text/plain": [
       "array([  21171,   17599, 3101282,  113803,  373450,  330877,   17463,\n",
       "        349909,  347742,  237736,    9549,  113783,    2151,  347082,\n",
       "        350406,  248706,  382652,  244373,  345763,    2649,  239865,\n",
       "        248698,  330923,  113788,  347077,    2631,   19950,  330959,\n",
       "        349216,   17601,   17569,  335677,   24579,   17604,  113789,\n",
       "          2677,    2152,  345764,    2651,    7546,   11668,  349253,\n",
       "          2123,  330958,   23567,  370371,   14311,    2662,  349237,\n",
       "       3101295,   39886,   17572,    2926,  113509,   19947,   31026,\n",
       "          2697,   34651,    2144,    2669,  113572,   36973,  347088,\n",
       "         17605,    2661,   29395,    3464, 3101281,  315151,   33111,\n",
       "         14879,    2680,    1601,  348123,  349208,  374746,  248738,\n",
       "        364516,  345767,  345779,  330932,  113059,   14885, 3101278,\n",
       "          6608,  392086,  343275,  343276,  347466,    5734,    2315,\n",
       "        364500,  374910,   17754,   17759,  231919,  244367,  349245,\n",
       "        349215,   35281,    7540, 3101276,  349207,  343120,  312991,\n",
       "        349249,  371110,  110465,    2665,  324669,    4136,    2627,\n",
       "       3101294,  370369,   17558,   54510,   27267,  370372,   17369,\n",
       "          2668,  347061,  349241, 3101307,    3337,  228414,   29178,\n",
       "          2133,   11752,    7534,   17593,    2678,  347081, 3101279,\n",
       "        365222,  231945,   33112,  350043,  230080,  244310,    1166,\n",
       "        113776,   11206,     851,  265302,   17597,   35851,  392090,\n",
       "        315037,    2343,  371362,   33595,  347068,  315093,  363291,\n",
       "        113505,   17318,  111240, 3101280,   17764,  350404,    4133,\n",
       "         17595,  250653,    2131,  230136,  315153,  113767,  370365,\n",
       "        111428,  364849,  349247,  234604,   28424,  350046,   17610,\n",
       "        368703,    4579,  370370,  248747,  345770, 3101264,    2628,\n",
       "          3540,  347054,    2699,  367231,  112277, 3101311,   13528,\n",
       "         21174,  250646,  367229,   35273, 3101283,  243847,   11813,\n",
       "         14208,  392089,  220367,   21440,  349234,   19943,    4348,\n",
       "           751,   21173,  236171,  347067,  237442,   29566,    6609,\n",
       "         26707,   31921,   28665,    1585,  367230,   14263, 3101275,\n",
       "          2694,   19928,  347071,  250649,   11751,  244252,  362316,\n",
       "        113514,    3336,  370129,    2650,   17585,  110152,   17755,\n",
       "        230433,  384461,  110413,  112059,  382649,   17248,  347083,\n",
       "         17582,   17760,  113798,  250644,   17596,  370375,   13502,\n",
       "        347073,  239853,    2673,  336439,  347464,  345778,   10482,\n",
       "        113056,  349239,  345774,  349206,  237798,  370373,   19877,\n",
       "         11967,    2163,  349236,  349233,   17612,    2693,  113781,\n",
       "         19988,    9234,  367226,  226593,    2466,   17421,   17758,\n",
       "          3381,   17485,   11767,   17608,  250651,  349243,   13529,\n",
       "        347470,   29011,   36928,   16966,   21172,  349219,  234818,\n",
       "        345364,   28551,  111361,  113043,   17611,  349225,    7598,\n",
       "        113784,  248740,  244361,  229236,  248733,   31418,  386525,\n",
       "         37671,  315088,    7267,  113510,    2695,    2647,  345783,\n",
       "        237671,  330931,  330980,    2167,    2691, 3101310,    7076,\n",
       "        110813,    2626,   14313,   17477,   11765, 3101267,  323951,\n",
       "          7077,  113503,    2648,  347069,   17757,    2653, 3101293,\n",
       "        349227,   27849,  367655,    1748,  113760,  350034, 3101277,\n",
       "        350052,  350407,   28403,  244278,  240929, 3101289,  341826,\n",
       "          4137,  315096,   28664,  347064,   29106,  312992,  349222,\n",
       "        394140, 3101269,  343095,   28220,  250652,   28228,  345773,\n",
       "        349254,   13032,  315082,  347080,   34244,    2003,  250655,\n",
       "        364851,  392078,  110564,  376564,    3085, 3101274,   13507,\n",
       "         18723,  345769,  347076,  230434,   65306,   33638,  113794,\n",
       "          2666,  113786,   65303,  113051,   17453,    2817,  349240,\n",
       "         13509,   17464,   13531,  371060,   19952,  364506,  111320,\n",
       "        234360,    2816, 3101306,  113792,   36209,  323592,  315089,\n",
       "           541,    7553,   31027,    3460,  350060, 3101298,  239854,\n",
       "          3594,    4134,   11771,   18509,   65304, 3101317,  113787,\n",
       "         17609,   45380,   36947,    6212,  350035,  315086,  364846,\n",
       "        330909,    4135,   26360,  111427,    4001,  382651, 3101316,\n",
       "         17473,   17603,  349209,   36967,   34260,  226875,  349242,\n",
       "         12749,  349252,    2624,    2700,  367232,   14258,   17483,\n",
       "       3101296,   29104,    2641,    2690,  315084,  113050,   17761,\n",
       "        364498,   13568,    5735,    2908,     693,    2146,  244358,\n",
       "        330979,    2620,  347085,  113807,   11755,  345572,  372622,\n",
       "        349251,  218629,  392082,  392087,   48871,  349205,    2686,\n",
       "        350417,     752,   11769,   17474,   14312,   20589,  358585,\n",
       "        243880,    2689, 3101286,  237789,   13049,    3411,  237565,\n",
       "         13567,   14973,    3235, 3101273,    3902,  364848,   29037,\n",
       "        248727,    2664,  349214,  113796,  364511,  111426,  349910,\n",
       "        349246,  113804, 3101305,  370377,  364512,  220845,   31028,\n",
       "          2659,   11753,  350029,   54636,   36963,  219533,  349224,\n",
       "        334912,   27042,  347743,   13214,  112052,  237668, 3101292,\n",
       "        350050,  349231,   13213,    2314,  349221,    8475,  330919,\n",
       "        365226,  349223,   29751,    2623,    5727,  349210, 3101285,\n",
       "        234686,  312993,    3536,   19996,   29750,   12750,   24580,\n",
       "        244270,  239856,  349912,  342826,    4138,  330935,    6563,\n",
       "        349228,  350036,   24160,  349256,    2672,  113800,  248731,\n",
       "        363592,   35852,  348121,   17475,   36864,  350025,  223596,\n",
       "         17476,   17482,  113028,    7545,  250647,  348124,   34218,\n",
       "         36568,  347062,  350048,   12233,  250643,  113806,  315094,\n",
       "         36866,  236853, 3101271,  239855,   28425,  233639,  349201,\n",
       "        349218,   16988,  376566, 3101288,  250648,  113773,  335097,\n",
       "         29103,  392096,  345780,  349204,  350042,   29108,  363294,\n",
       "       3101272,    2663,  347074,  112379,  364850,    8471,  345781,\n",
       "        350047,       3,    2674,   29105,  347078,  383121,   36865,\n",
       "          2687,  113501,    6607, 3101312,  374887, 3101265,   12460,\n",
       "         17600,  349203,   28213,   17465,  349244,    2685,    2625,\n",
       "        347089,  347063,  112050,  347087,  248723,    3474,   28206,\n",
       "        364499,  112058, 3101290,    2079,    7075,  315098,   19972,\n",
       "        368323,  367228,    2671,  347468,    2223,   17756,  315097,\n",
       "        392092,   11774, 3101287,    2683,  315090,    5547,  349213,\n",
       "        347060,   17592,  392091,  113055,    2629,  350026,   28134,\n",
       "         17466,  233866,  236852,    2149,   17590,  345777,  349248,\n",
       "           695,  345765,    2667,  349212,  349217,  349257,    7552,\n",
       "         34068,  392076,  211536,  112053,  111369,  370376])"
      ]
     },
     "execution_count": 20,
     "metadata": {},
     "output_type": "execute_result"
    }
   ],
   "source": [
    "s=\" i am hagar\"\n",
    "s.split()[-1]\n",
    "df['Ticket'].unique()"
   ]
  },
  {
   "cell_type": "code",
   "execution_count": 21,
   "id": "b93adfc5",
   "metadata": {},
   "outputs": [],
   "source": [
    "def check_outliers(col,data):\n",
    "    q1=data[col].quantile(0.25)\n",
    "    q3=data[col].quantile(0.75)\n",
    "    IQR=q3-q1\n",
    "    lower_b=q1-1.5*IQR\n",
    "    upper_b=q3+1.5*IQR\n",
    "    outliers=[]\n",
    "    for i in range (len(data)):\n",
    "        if data.loc[i,col]>upper_b or data.loc[i,col]<lower_b:\n",
    "            outliers.append(data.loc[i,col])\n",
    "    return outliers\n"
   ]
  },
  {
   "cell_type": "code",
   "execution_count": 22,
   "id": "e398c12e",
   "metadata": {},
   "outputs": [],
   "source": [
    "def handle_outliers(col,data):\n",
    "    q1=data[col].quantile(0.25)\n",
    "    q3=data[col].quantile(0.75)\n",
    "    IQR=q3-q1\n",
    "    lower_b=q1-1.5*IQR\n",
    "    upper_b=q3+1.5*IQR\n",
    "    for i in range (len(data)):\n",
    "        if data.loc[i,col]>upper_b:\n",
    "            data.loc[i,col]=upper_b\n",
    "            \n",
    "        elif data.loc[i,col]<lower_b:\n",
    "              data.loc[i,col]=lower_b\n"
   ]
  },
  {
   "cell_type": "code",
   "execution_count": 23,
   "id": "0217b0b7",
   "metadata": {},
   "outputs": [
    {
     "data": {
      "text/plain": [
       "[2.0,\n",
       " 58.0,\n",
       " 55.0,\n",
       " 2.0,\n",
       " 66.0,\n",
       " 65.0,\n",
       " 0.83,\n",
       " 59.0,\n",
       " 71.0,\n",
       " 70.5,\n",
       " 2.0,\n",
       " 55.5,\n",
       " 1.0,\n",
       " 61.0,\n",
       " 1.0,\n",
       " 56.0,\n",
       " 1.0,\n",
       " 58.0,\n",
       " 2.0,\n",
       " 59.0,\n",
       " 62.0,\n",
       " 58.0,\n",
       " 63.0,\n",
       " 65.0,\n",
       " 2.0,\n",
       " 0.92,\n",
       " 61.0,\n",
       " 2.0,\n",
       " 60.0,\n",
       " 1.0,\n",
       " 1.0,\n",
       " 64.0,\n",
       " 65.0,\n",
       " 56.0,\n",
       " 0.75,\n",
       " 2.0,\n",
       " 63.0,\n",
       " 58.0,\n",
       " 55.0,\n",
       " 71.0,\n",
       " 2.0,\n",
       " 64.0,\n",
       " 62.0,\n",
       " 62.0,\n",
       " 60.0,\n",
       " 61.0,\n",
       " 57.0,\n",
       " 80.0,\n",
       " 2.0,\n",
       " 0.75,\n",
       " 56.0,\n",
       " 58.0,\n",
       " 70.0,\n",
       " 60.0,\n",
       " 60.0,\n",
       " 70.0,\n",
       " 0.67,\n",
       " 57.0,\n",
       " 1.0,\n",
       " 0.42,\n",
       " 2.0,\n",
       " 1.0,\n",
       " 62.0,\n",
       " 0.83,\n",
       " 74.0,\n",
       " 56.0]"
      ]
     },
     "execution_count": 23,
     "metadata": {},
     "output_type": "execute_result"
    }
   ],
   "source": [
    "check_outliers('Age',df)"
   ]
  },
  {
   "cell_type": "code",
   "execution_count": 24,
   "id": "035f18d2",
   "metadata": {},
   "outputs": [
    {
     "data": {
      "image/png": "[encoded data removed]",
      "text/plain": [
       "<Figure size 640x480 with 1 Axes>"
      ]
     },
     "metadata": {},
     "output_type": "display_data"
    }
   ],
   "source": [
    "boxplot=df.boxplot('Age')\n"
   ]
  },
  {
   "cell_type": "code",
   "execution_count": 25,
   "id": "b3de7ca0",
   "metadata": {},
   "outputs": [
    {
     "data": {
      "text/html": [
       "<div>\n",
       "<style scoped>\n",
       "    .dataframe tbody tr th:only-of-type {\n",
       "        vertical-align: middle;\n",
       "    }\n",
       "\n",
       "    .dataframe tbody tr th {\n",
       "        vertical-align: top;\n",
       "    }\n",
       "\n",
       "    .dataframe thead th {\n",
       "        text-align: right;\n",
       "    }\n",
       "</style>\n",
       "<table border=\"1\" class=\"dataframe\">\n",
       "  <thead>\n",
       "    <tr style=\"text-align: right;\">\n",
       "      <th></th>\n",
       "      <th>PassengerId</th>\n",
       "      <th>Survived</th>\n",
       "      <th>Pclass</th>\n",
       "      <th>Name</th>\n",
       "      <th>Sex</th>\n",
       "      <th>Age</th>\n",
       "      <th>SibSp</th>\n",
       "      <th>Parch</th>\n",
       "      <th>Ticket</th>\n",
       "      <th>Fare</th>\n",
       "      <th>Embarked</th>\n",
       "    </tr>\n",
       "  </thead>\n",
       "  <tbody>\n",
       "    <tr>\n",
       "      <th>0</th>\n",
       "      <td>1</td>\n",
       "      <td>0</td>\n",
       "      <td>3</td>\n",
       "      <td>Braund, Mr. Owen Harris</td>\n",
       "      <td>male</td>\n",
       "      <td>22.0</td>\n",
       "      <td>1</td>\n",
       "      <td>0</td>\n",
       "      <td>21171</td>\n",
       "      <td>7.2500</td>\n",
       "      <td>S</td>\n",
       "    </tr>\n",
       "    <tr>\n",
       "      <th>1</th>\n",
       "      <td>2</td>\n",
       "      <td>1</td>\n",
       "      <td>1</td>\n",
       "      <td>Cumings, Mrs. John Bradley (Florence Briggs Th...</td>\n",
       "      <td>female</td>\n",
       "      <td>38.0</td>\n",
       "      <td>1</td>\n",
       "      <td>0</td>\n",
       "      <td>17599</td>\n",
       "      <td>71.2833</td>\n",
       "      <td>C</td>\n",
       "    </tr>\n",
       "    <tr>\n",
       "      <th>2</th>\n",
       "      <td>3</td>\n",
       "      <td>1</td>\n",
       "      <td>3</td>\n",
       "      <td>Heikkinen, Miss. Laina</td>\n",
       "      <td>female</td>\n",
       "      <td>26.0</td>\n",
       "      <td>0</td>\n",
       "      <td>0</td>\n",
       "      <td>3101282</td>\n",
       "      <td>7.9250</td>\n",
       "      <td>S</td>\n",
       "    </tr>\n",
       "    <tr>\n",
       "      <th>3</th>\n",
       "      <td>4</td>\n",
       "      <td>1</td>\n",
       "      <td>1</td>\n",
       "      <td>Futrelle, Mrs. Jacques Heath (Lily May Peel)</td>\n",
       "      <td>female</td>\n",
       "      <td>35.0</td>\n",
       "      <td>1</td>\n",
       "      <td>0</td>\n",
       "      <td>113803</td>\n",
       "      <td>53.1000</td>\n",
       "      <td>S</td>\n",
       "    </tr>\n",
       "    <tr>\n",
       "      <th>4</th>\n",
       "      <td>5</td>\n",
       "      <td>0</td>\n",
       "      <td>3</td>\n",
       "      <td>Allen, Mr. William Henry</td>\n",
       "      <td>male</td>\n",
       "      <td>35.0</td>\n",
       "      <td>0</td>\n",
       "      <td>0</td>\n",
       "      <td>373450</td>\n",
       "      <td>8.0500</td>\n",
       "      <td>S</td>\n",
       "    </tr>\n",
       "    <tr>\n",
       "      <th>...</th>\n",
       "      <td>...</td>\n",
       "      <td>...</td>\n",
       "      <td>...</td>\n",
       "      <td>...</td>\n",
       "      <td>...</td>\n",
       "      <td>...</td>\n",
       "      <td>...</td>\n",
       "      <td>...</td>\n",
       "      <td>...</td>\n",
       "      <td>...</td>\n",
       "      <td>...</td>\n",
       "    </tr>\n",
       "    <tr>\n",
       "      <th>882</th>\n",
       "      <td>887</td>\n",
       "      <td>0</td>\n",
       "      <td>2</td>\n",
       "      <td>Montvila, Rev. Juozas</td>\n",
       "      <td>male</td>\n",
       "      <td>27.0</td>\n",
       "      <td>0</td>\n",
       "      <td>0</td>\n",
       "      <td>211536</td>\n",
       "      <td>13.0000</td>\n",
       "      <td>S</td>\n",
       "    </tr>\n",
       "    <tr>\n",
       "      <th>883</th>\n",
       "      <td>888</td>\n",
       "      <td>1</td>\n",
       "      <td>1</td>\n",
       "      <td>Graham, Miss. Margaret Edith</td>\n",
       "      <td>female</td>\n",
       "      <td>19.0</td>\n",
       "      <td>0</td>\n",
       "      <td>0</td>\n",
       "      <td>112053</td>\n",
       "      <td>30.0000</td>\n",
       "      <td>S</td>\n",
       "    </tr>\n",
       "    <tr>\n",
       "      <th>884</th>\n",
       "      <td>889</td>\n",
       "      <td>0</td>\n",
       "      <td>3</td>\n",
       "      <td>Johnston, Miss. Catherine Helen \"Carrie\"</td>\n",
       "      <td>female</td>\n",
       "      <td>28.0</td>\n",
       "      <td>1</td>\n",
       "      <td>2</td>\n",
       "      <td>6607</td>\n",
       "      <td>23.4500</td>\n",
       "      <td>S</td>\n",
       "    </tr>\n",
       "    <tr>\n",
       "      <th>885</th>\n",
       "      <td>890</td>\n",
       "      <td>1</td>\n",
       "      <td>1</td>\n",
       "      <td>Behr, Mr. Karl Howell</td>\n",
       "      <td>male</td>\n",
       "      <td>26.0</td>\n",
       "      <td>0</td>\n",
       "      <td>0</td>\n",
       "      <td>111369</td>\n",
       "      <td>30.0000</td>\n",
       "      <td>C</td>\n",
       "    </tr>\n",
       "    <tr>\n",
       "      <th>886</th>\n",
       "      <td>891</td>\n",
       "      <td>0</td>\n",
       "      <td>3</td>\n",
       "      <td>Dooley, Mr. Patrick</td>\n",
       "      <td>male</td>\n",
       "      <td>32.0</td>\n",
       "      <td>0</td>\n",
       "      <td>0</td>\n",
       "      <td>370376</td>\n",
       "      <td>7.7500</td>\n",
       "      <td>Q</td>\n",
       "    </tr>\n",
       "  </tbody>\n",
       "</table>\n",
       "<p>887 rows × 11 columns</p>\n",
       "</div>"
      ],
      "text/plain": [
       "     PassengerId  Survived  Pclass  \\\n",
       "0              1         0       3   \n",
       "1              2         1       1   \n",
       "2              3         1       3   \n",
       "3              4         1       1   \n",
       "4              5         0       3   \n",
       "..           ...       ...     ...   \n",
       "882          887         0       2   \n",
       "883          888         1       1   \n",
       "884          889         0       3   \n",
       "885          890         1       1   \n",
       "886          891         0       3   \n",
       "\n",
       "                                                  Name     Sex   Age  SibSp  \\\n",
       "0                              Braund, Mr. Owen Harris    male  22.0      1   \n",
       "1    Cumings, Mrs. John Bradley (Florence Briggs Th...  female  38.0      1   \n",
       "2                               Heikkinen, Miss. Laina  female  26.0      0   \n",
       "3         Futrelle, Mrs. Jacques Heath (Lily May Peel)  female  35.0      1   \n",
       "4                             Allen, Mr. William Henry    male  35.0      0   \n",
       "..                                                 ...     ...   ...    ...   \n",
       "882                              Montvila, Rev. Juozas    male  27.0      0   \n",
       "883                       Graham, Miss. Margaret Edith  female  19.0      0   \n",
       "884           Johnston, Miss. Catherine Helen \"Carrie\"  female  28.0      1   \n",
       "885                              Behr, Mr. Karl Howell    male  26.0      0   \n",
       "886                                Dooley, Mr. Patrick    male  32.0      0   \n",
       "\n",
       "     Parch   Ticket     Fare Embarked  \n",
       "0        0    21171   7.2500        S  \n",
       "1        0    17599  71.2833        C  \n",
       "2        0  3101282   7.9250        S  \n",
       "3        0   113803  53.1000        S  \n",
       "4        0   373450   8.0500        S  \n",
       "..     ...      ...      ...      ...  \n",
       "882      0   211536  13.0000        S  \n",
       "883      0   112053  30.0000        S  \n",
       "884      2     6607  23.4500        S  \n",
       "885      0   111369  30.0000        C  \n",
       "886      0   370376   7.7500        Q  \n",
       "\n",
       "[887 rows x 11 columns]"
      ]
     },
     "execution_count": 25,
     "metadata": {},
     "output_type": "execute_result"
    }
   ],
   "source": [
    "df"
   ]
  },
  {
   "cell_type": "code",
   "execution_count": 26,
   "id": "928c01eb",
   "metadata": {},
   "outputs": [],
   "source": [
    "handle_outliers('Age',df)"
   ]
  },
  {
   "cell_type": "code",
   "execution_count": 27,
   "id": "1c5e8ea9",
   "metadata": {},
   "outputs": [],
   "source": [
    "check_outliers('Fare',df)\n",
    "handle_outliers('Fare',df)"
   ]
  },
  {
   "cell_type": "code",
   "execution_count": 28,
   "id": "5b93ecf7",
   "metadata": {},
   "outputs": [],
   "source": [
    "df.drop('Name',axis=1,inplace=True)"
   ]
  },
  {
   "cell_type": "code",
   "execution_count": 29,
   "id": "0dea0ea5",
   "metadata": {},
   "outputs": [
    {
     "data": {
      "text/plain": [
       "array(['S', 'C', 'Q'], dtype=object)"
      ]
     },
     "execution_count": 29,
     "metadata": {},
     "output_type": "execute_result"
    }
   ],
   "source": [
    "df['Embarked'].unique()"
   ]
  },
  {
   "cell_type": "code",
   "execution_count": 30,
   "id": "d55e5f99",
   "metadata": {},
   "outputs": [],
   "source": [
    "df=pd.get_dummies(df,drop_first=True)"
   ]
  },
  {
   "cell_type": "code",
   "execution_count": 31,
   "id": "4c38380a",
   "metadata": {},
   "outputs": [
    {
     "data": {
      "text/plain": [
       "<Axes: >"
      ]
     },
     "execution_count": 31,
     "metadata": {},
     "output_type": "execute_result"
    },
    {
     "data": {
      "image/png": "[encoded data removed]",
      "text/plain": [
       "<Figure size 100x1200 with 2 Axes>"
      ]
     },
     "metadata": {},
     "output_type": "display_data"
    }
   ],
   "source": [
    "import matplotlib.pyplot as plt\n",
    "plt.figure(figsize=(1,12))\n",
    "corr=df.corr()\n",
    "sns.heatmap(data= corr.loc[:, ['Survived']],\n",
    "            annot = True)"
   ]
  },
  {
   "cell_type": "code",
   "execution_count": 32,
   "id": "732e5a21",
   "metadata": {},
   "outputs": [],
   "source": [
    "df['semicolon']=df['PassengerId']"
   ]
  },
  {
   "cell_type": "code",
   "execution_count": 33,
   "id": "lightweight-software",
   "metadata": {
    "papermill": {
     "duration": 0.024642,
     "end_time": "2021-04-03T18:19:40.941136",
     "exception": false,
     "start_time": "2021-04-03T18:19:40.916494",
     "status": "completed"
    },
    "tags": []
   },
   "outputs": [
    {
     "data": {
      "text/html": [
       "<div>\n",
       "<style scoped>\n",
       "    .dataframe tbody tr th:only-of-type {\n",
       "        vertical-align: middle;\n",
       "    }\n",
       "\n",
       "    .dataframe tbody tr th {\n",
       "        vertical-align: top;\n",
       "    }\n",
       "\n",
       "    .dataframe thead th {\n",
       "        text-align: right;\n",
       "    }\n",
       "</style>\n",
       "<table border=\"1\" class=\"dataframe\">\n",
       "  <thead>\n",
       "    <tr style=\"text-align: right;\">\n",
       "      <th></th>\n",
       "      <th>PassengerId</th>\n",
       "      <th>Survived</th>\n",
       "      <th>Pclass</th>\n",
       "      <th>Age</th>\n",
       "      <th>SibSp</th>\n",
       "      <th>Parch</th>\n",
       "      <th>Ticket</th>\n",
       "      <th>Fare</th>\n",
       "      <th>Sex_male</th>\n",
       "      <th>Embarked_Q</th>\n",
       "      <th>Embarked_S</th>\n",
       "      <th>semicolon</th>\n",
       "    </tr>\n",
       "  </thead>\n",
       "  <tbody>\n",
       "    <tr>\n",
       "      <th>0</th>\n",
       "      <td>1</td>\n",
       "      <td>0</td>\n",
       "      <td>3</td>\n",
       "      <td>22.0</td>\n",
       "      <td>1</td>\n",
       "      <td>0</td>\n",
       "      <td>21171</td>\n",
       "      <td>7.25000</td>\n",
       "      <td>True</td>\n",
       "      <td>False</td>\n",
       "      <td>True</td>\n",
       "      <td>1</td>\n",
       "    </tr>\n",
       "    <tr>\n",
       "      <th>1</th>\n",
       "      <td>2</td>\n",
       "      <td>1</td>\n",
       "      <td>1</td>\n",
       "      <td>38.0</td>\n",
       "      <td>1</td>\n",
       "      <td>0</td>\n",
       "      <td>17599</td>\n",
       "      <td>65.95625</td>\n",
       "      <td>False</td>\n",
       "      <td>False</td>\n",
       "      <td>False</td>\n",
       "      <td>2</td>\n",
       "    </tr>\n",
       "    <tr>\n",
       "      <th>2</th>\n",
       "      <td>3</td>\n",
       "      <td>1</td>\n",
       "      <td>3</td>\n",
       "      <td>26.0</td>\n",
       "      <td>0</td>\n",
       "      <td>0</td>\n",
       "      <td>3101282</td>\n",
       "      <td>7.92500</td>\n",
       "      <td>False</td>\n",
       "      <td>False</td>\n",
       "      <td>True</td>\n",
       "      <td>3</td>\n",
       "    </tr>\n",
       "    <tr>\n",
       "      <th>3</th>\n",
       "      <td>4</td>\n",
       "      <td>1</td>\n",
       "      <td>1</td>\n",
       "      <td>35.0</td>\n",
       "      <td>1</td>\n",
       "      <td>0</td>\n",
       "      <td>113803</td>\n",
       "      <td>53.10000</td>\n",
       "      <td>False</td>\n",
       "      <td>False</td>\n",
       "      <td>True</td>\n",
       "      <td>4</td>\n",
       "    </tr>\n",
       "    <tr>\n",
       "      <th>4</th>\n",
       "      <td>5</td>\n",
       "      <td>0</td>\n",
       "      <td>3</td>\n",
       "      <td>35.0</td>\n",
       "      <td>0</td>\n",
       "      <td>0</td>\n",
       "      <td>373450</td>\n",
       "      <td>8.05000</td>\n",
       "      <td>True</td>\n",
       "      <td>False</td>\n",
       "      <td>True</td>\n",
       "      <td>5</td>\n",
       "    </tr>\n",
       "    <tr>\n",
       "      <th>...</th>\n",
       "      <td>...</td>\n",
       "      <td>...</td>\n",
       "      <td>...</td>\n",
       "      <td>...</td>\n",
       "      <td>...</td>\n",
       "      <td>...</td>\n",
       "      <td>...</td>\n",
       "      <td>...</td>\n",
       "      <td>...</td>\n",
       "      <td>...</td>\n",
       "      <td>...</td>\n",
       "      <td>...</td>\n",
       "    </tr>\n",
       "    <tr>\n",
       "      <th>882</th>\n",
       "      <td>887</td>\n",
       "      <td>0</td>\n",
       "      <td>2</td>\n",
       "      <td>27.0</td>\n",
       "      <td>0</td>\n",
       "      <td>0</td>\n",
       "      <td>211536</td>\n",
       "      <td>13.00000</td>\n",
       "      <td>True</td>\n",
       "      <td>False</td>\n",
       "      <td>True</td>\n",
       "      <td>887</td>\n",
       "    </tr>\n",
       "    <tr>\n",
       "      <th>883</th>\n",
       "      <td>888</td>\n",
       "      <td>1</td>\n",
       "      <td>1</td>\n",
       "      <td>19.0</td>\n",
       "      <td>0</td>\n",
       "      <td>0</td>\n",
       "      <td>112053</td>\n",
       "      <td>30.00000</td>\n",
       "      <td>False</td>\n",
       "      <td>False</td>\n",
       "      <td>True</td>\n",
       "      <td>888</td>\n",
       "    </tr>\n",
       "    <tr>\n",
       "      <th>884</th>\n",
       "      <td>889</td>\n",
       "      <td>0</td>\n",
       "      <td>3</td>\n",
       "      <td>28.0</td>\n",
       "      <td>1</td>\n",
       "      <td>2</td>\n",
       "      <td>6607</td>\n",
       "      <td>23.45000</td>\n",
       "      <td>False</td>\n",
       "      <td>False</td>\n",
       "      <td>True</td>\n",
       "      <td>889</td>\n",
       "    </tr>\n",
       "    <tr>\n",
       "      <th>885</th>\n",
       "      <td>890</td>\n",
       "      <td>1</td>\n",
       "      <td>1</td>\n",
       "      <td>26.0</td>\n",
       "      <td>0</td>\n",
       "      <td>0</td>\n",
       "      <td>111369</td>\n",
       "      <td>30.00000</td>\n",
       "      <td>True</td>\n",
       "      <td>False</td>\n",
       "      <td>False</td>\n",
       "      <td>890</td>\n",
       "    </tr>\n",
       "    <tr>\n",
       "      <th>886</th>\n",
       "      <td>891</td>\n",
       "      <td>0</td>\n",
       "      <td>3</td>\n",
       "      <td>32.0</td>\n",
       "      <td>0</td>\n",
       "      <td>0</td>\n",
       "      <td>370376</td>\n",
       "      <td>7.75000</td>\n",
       "      <td>True</td>\n",
       "      <td>True</td>\n",
       "      <td>False</td>\n",
       "      <td>891</td>\n",
       "    </tr>\n",
       "  </tbody>\n",
       "</table>\n",
       "<p>887 rows × 12 columns</p>\n",
       "</div>"
      ],
      "text/plain": [
       "     PassengerId  Survived  Pclass   Age  SibSp  Parch   Ticket      Fare  \\\n",
       "0              1         0       3  22.0      1      0    21171   7.25000   \n",
       "1              2         1       1  38.0      1      0    17599  65.95625   \n",
       "2              3         1       3  26.0      0      0  3101282   7.92500   \n",
       "3              4         1       1  35.0      1      0   113803  53.10000   \n",
       "4              5         0       3  35.0      0      0   373450   8.05000   \n",
       "..           ...       ...     ...   ...    ...    ...      ...       ...   \n",
       "882          887         0       2  27.0      0      0   211536  13.00000   \n",
       "883          888         1       1  19.0      0      0   112053  30.00000   \n",
       "884          889         0       3  28.0      1      2     6607  23.45000   \n",
       "885          890         1       1  26.0      0      0   111369  30.00000   \n",
       "886          891         0       3  32.0      0      0   370376   7.75000   \n",
       "\n",
       "     Sex_male  Embarked_Q  Embarked_S  semicolon  \n",
       "0        True       False        True          1  \n",
       "1       False       False       False          2  \n",
       "2       False       False        True          3  \n",
       "3       False       False        True          4  \n",
       "4        True       False        True          5  \n",
       "..        ...         ...         ...        ...  \n",
       "882      True       False        True        887  \n",
       "883     False       False        True        888  \n",
       "884     False       False        True        889  \n",
       "885      True       False       False        890  \n",
       "886      True        True       False        891  \n",
       "\n",
       "[887 rows x 12 columns]"
      ]
     },
     "execution_count": 33,
     "metadata": {},
     "output_type": "execute_result"
    }
   ],
   "source": [
    "df"
   ]
  },
  {
   "cell_type": "code",
   "execution_count": null,
   "id": "6a15723a",
   "metadata": {},
   "outputs": [],
   "source": []
  }
 ],
 "metadata": {
  "kernelspec": {
   "display_name": "Python 3 (ipykernel)",
   "language": "python",
   "name": "python3"
  },
  "language_info": {
   "codemirror_mode": {
    "name": "ipython",
    "version": 3
   },
   "file_extension": ".py",
   "mimetype": "text/x-python",
   "name": "python",
   "nbconvert_exporter": "python",
   "pygments_lexer": "ipython3",
   "version": "3.11.4"
  },
  "papermill": {
   "default_parameters": {},
   "duration": 11.956966,
   "end_time": "2021-04-03T18:19:42.653314",
   "environment_variables": {},
   "exception": null,
   "input_path": "__notebook__.ipynb",
   "output_path": "__notebook__.ipynb",
   "parameters": {},
   "start_time": "2021-04-03T18:19:30.696348",
   "version": "2.3.2"
  }
 },
 "nbformat": 4,
 "nbformat_minor": 5
}
